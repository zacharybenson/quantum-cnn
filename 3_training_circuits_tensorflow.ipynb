{
 "cells": [
  {
   "cell_type": "markdown",
   "id": "0941ec5b",
   "metadata": {},
   "source": [
    "# Training Sequential Circuits with Tensorflow\n",
    "\n",
    "This notebook shows the expands upon the sequential circuits structure\n",
    "and optimize the circuit using Tensorflow. <br>\n",
    "Currently Tensorflow only supports 2 expectation values, which is only allows for multi-class classification of 4 classes. <br> \n",
    "This is due to this error https://github.com/PennyLaneAI/pennylane/issues/937."
   ]
  },
  {
   "cell_type": "code",
   "execution_count": 41,
   "id": "bfede7f2",
   "metadata": {},
   "outputs": [],
   "source": [
    "#!pip install pennylane"
   ]
  },
  {
   "cell_type": "code",
   "execution_count": 2,
   "id": "82e5a045",
   "metadata": {},
   "outputs": [
    {
     "name": "stderr",
     "output_type": "stream",
     "text": [
      "Error.  nthreads cannot be larger than environment variable \"NUMEXPR_MAX_THREADS\" (64)"
     ]
    }
   ],
   "source": [
    "import pennylane as qml\n",
    "from pennylane import numpy as np\n",
    "from pennylane.templates.embeddings import AmplitudeEmbedding, AngleEmbedding\n",
    "from model import Conv1DLayer, PoolingLayer, unitarity_conv1d, unitarity_pool, unitarity_toffoli\n",
    "import tensorflow as tf"
   ]
  },
  {
   "cell_type": "markdown",
   "id": "9251eebb",
   "metadata": {},
   "source": [
    "# Defining the device"
   ]
  },
  {
   "cell_type": "code",
   "execution_count": 20,
   "id": "6e50d9a0",
   "metadata": {},
   "outputs": [],
   "source": [
    "#Specify how many wires will be used\n",
    "num_wires = 12\n",
    "num_ancilla = 4\n",
    "num_work_wires = num_wires - num_ancilla\n",
    "\n",
    "#Embedding size\n",
    "embedding_size = 2**num_work_wires\n",
    "dummy_embedding = [1] * embedding_size\n",
    "\n",
    "#Specify what type of device you are using.\n",
    "device_type = 'default.qubit'\n",
    "#device_type = 'lightning.qubit'\n",
    "\n",
    "#Initialize Device\n",
    "dev = qml.device(device_type, wires=num_wires) "
   ]
  },
  {
   "cell_type": "markdown",
   "id": "a338716e",
   "metadata": {},
   "source": [
    "# Defining circuit to be trained"
   ]
  },
  {
   "cell_type": "code",
   "execution_count": 21,
   "id": "1c6bdab4",
   "metadata": {},
   "outputs": [],
   "source": [
    "def circuit(num_wires, num_ancilla):\n",
    "    @qml.qnode(dev, interface='tf', diff_method ='adjoint')\n",
    "    def func(inputs, params): \n",
    "        work_wires = list(range(num_wires - num_ancilla))\n",
    "        ancilla_wires = list(range(len(work_wires),num_wires))\n",
    "\n",
    "        # Data Embedding Layer\n",
    "        AmplitudeEmbedding(inputs, wires=work_wires, normalize=True)\n",
    "\n",
    "        # Hidden Layers\n",
    "        work_wires, params = Conv1DLayer(unitarity_conv1d , 15)(work_wires , params)\n",
    "        work_wires, params = PoolingLayer(unitarity_pool , 2)(work_wires , params)\n",
    "        work_wires, params = Conv1DLayer(unitarity_conv1d , 15)(work_wires , params)\n",
    "        work_wires, params = PoolingLayer(unitarity_pool , 2)(work_wires , params)\n",
    "\n",
    "        toffoli_wires = [1,7,8]\n",
    "        qml.Toffoli(wires=toffoli_wires)\n",
    "        qml.PauliX(toffoli_wires[0])\n",
    "        toffoli_wires[-1] += 1\n",
    "\n",
    "        qml.Toffoli(wires=toffoli_wires)\n",
    "        qml.PauliX(toffoli_wires[0])\n",
    "        qml.PauliX(toffoli_wires[1])\n",
    "        toffoli_wires[-1] += 1\n",
    "\n",
    "        qml.Toffoli(wires=toffoli_wires)\n",
    "        qml.PauliX(toffoli_wires[0])\n",
    "        toffoli_wires[-1] += 1\n",
    "\n",
    "        qml.Toffoli(wires=toffoli_wires)\n",
    "\n",
    "        return [qml.expval(qml.PauliZ(wire)) for wire in ancilla_wires]\n",
    "    return func"
   ]
  },
  {
   "cell_type": "markdown",
   "id": "3b395b03",
   "metadata": {},
   "source": [
    "# Import training Data"
   ]
  },
  {
   "cell_type": "code",
   "execution_count": 22,
   "id": "f106fa66",
   "metadata": {},
   "outputs": [],
   "source": [
    "import tensorflow as tf\n",
    "labels = [0,1,2,3,4,5,6,7]\n",
    "\n",
    "(x_train, y_train), (x_test, y_test) = tf.keras.datasets.mnist.load_data()\n",
    "\n",
    "x_train, x_test = x_train[..., np.newaxis] / 255.0, x_test[..., np.newaxis] / 255.0  # normalize the data\n",
    "\n",
    "x_train_filter = [i for i, y in enumerate(y_train) if y in labels]\n",
    "x_test_filter =  [i for i, y in enumerate(y_test) if y in labels]\n",
    "\n",
    "X_train, X_test = x_train[x_train_filter], x_test[x_test_filter]\n",
    "Y_train, Y_test = y_train[x_train_filter], y_test[x_test_filter]\n",
    "\n",
    "X_train = tf.image.resize(X_train[:], (embedding_size, 1)).numpy()\n",
    "X_test = tf.image.resize(X_test[:], (embedding_size, 1)).numpy()\n",
    "X_train, X_test = tf.squeeze(X_train).numpy(), tf.squeeze(X_test).numpy()\n"
   ]
  },
  {
   "cell_type": "markdown",
   "id": "cfaf9beb",
   "metadata": {},
   "source": [
    "# Preparing the circuit for Tensorflow"
   ]
  },
  {
   "cell_type": "code",
   "execution_count": 35,
   "id": "8668a369",
   "metadata": {},
   "outputs": [],
   "source": [
    "params_shapes = {\"params\": 357}\n",
    "qlayer = qml.qnn.KerasLayer(circuit(num_wires, num_ancilla),params_shapes,output_dim=4)\n",
    "output = tf.keras.layers.Dense(1,activation='softmax',dtype='float32')"
   ]
  },
  {
   "cell_type": "code",
   "execution_count": 36,
   "id": "90d1a480",
   "metadata": {},
   "outputs": [],
   "source": [
    "model = tf.keras.models.Sequential([qlayer,output])"
   ]
  },
  {
   "cell_type": "code",
   "execution_count": 37,
   "id": "0af49d40",
   "metadata": {},
   "outputs": [],
   "source": [
    "opt = tf.keras.optimizers.SGD(learning_rate=0.5)"
   ]
  },
  {
   "cell_type": "code",
   "execution_count": 38,
   "id": "5d5e2eac",
   "metadata": {},
   "outputs": [],
   "source": [
    "params = tf.Variable(tf.convert_to_tensor(np.random.normal(size = 357)))"
   ]
  },
  {
   "cell_type": "code",
   "execution_count": 39,
   "id": "63278685",
   "metadata": {},
   "outputs": [],
   "source": [
    "model.compile(opt, loss='categorical_crossentropy',metrics=['accuracy'])"
   ]
  },
  {
   "cell_type": "markdown",
   "id": "a240019a",
   "metadata": {},
   "source": [
    "# Training Model"
   ]
  },
  {
   "cell_type": "code",
   "execution_count": 40,
   "id": "26c4a5aa",
   "metadata": {},
   "outputs": [
    {
     "name": "stdout",
     "output_type": "stream",
     "text": [
      "Epoch 1/8\n"
     ]
    },
    {
     "ename": "InvalidArgumentError",
     "evalue": "cannot compute Mul as input #1(zero-based) was expected to be a float tensor but is a double tensor [Op:Mul]",
     "output_type": "error",
     "traceback": [
      "\u001b[0;31m---------------------------------------------------------------------------\u001b[0m",
      "\u001b[0;31mInvalidArgumentError\u001b[0m                      Traceback (most recent call last)",
      "\u001b[0;32m/tmp/ipykernel_55615/1795431513.py\u001b[0m in \u001b[0;36m<cell line: 1>\u001b[0;34m()\u001b[0m\n\u001b[0;32m----> 1\u001b[0;31m \u001b[0mmodel\u001b[0m\u001b[0;34m.\u001b[0m\u001b[0mfit\u001b[0m\u001b[0;34m(\u001b[0m\u001b[0mX_train\u001b[0m\u001b[0;34m,\u001b[0m \u001b[0mY_train\u001b[0m\u001b[0;34m,\u001b[0m \u001b[0mepochs\u001b[0m\u001b[0;34m=\u001b[0m\u001b[0;36m8\u001b[0m\u001b[0;34m,\u001b[0m \u001b[0mbatch_size\u001b[0m\u001b[0;34m=\u001b[0m\u001b[0;36m32\u001b[0m\u001b[0;34m)\u001b[0m\u001b[0;34m\u001b[0m\u001b[0;34m\u001b[0m\u001b[0m\n\u001b[0m",
      "\u001b[0;32m~/anaconda3/envs/tensorflow2_p38/lib/python3.8/site-packages/keras/utils/traceback_utils.py\u001b[0m in \u001b[0;36merror_handler\u001b[0;34m(*args, **kwargs)\u001b[0m\n\u001b[1;32m     65\u001b[0m     \u001b[0;32mexcept\u001b[0m \u001b[0mException\u001b[0m \u001b[0;32mas\u001b[0m \u001b[0me\u001b[0m\u001b[0;34m:\u001b[0m  \u001b[0;31m# pylint: disable=broad-except\u001b[0m\u001b[0;34m\u001b[0m\u001b[0;34m\u001b[0m\u001b[0m\n\u001b[1;32m     66\u001b[0m       \u001b[0mfiltered_tb\u001b[0m \u001b[0;34m=\u001b[0m \u001b[0m_process_traceback_frames\u001b[0m\u001b[0;34m(\u001b[0m\u001b[0me\u001b[0m\u001b[0;34m.\u001b[0m\u001b[0m__traceback__\u001b[0m\u001b[0;34m)\u001b[0m\u001b[0;34m\u001b[0m\u001b[0;34m\u001b[0m\u001b[0m\n\u001b[0;32m---> 67\u001b[0;31m       \u001b[0;32mraise\u001b[0m \u001b[0me\u001b[0m\u001b[0;34m.\u001b[0m\u001b[0mwith_traceback\u001b[0m\u001b[0;34m(\u001b[0m\u001b[0mfiltered_tb\u001b[0m\u001b[0;34m)\u001b[0m \u001b[0;32mfrom\u001b[0m \u001b[0;32mNone\u001b[0m\u001b[0;34m\u001b[0m\u001b[0;34m\u001b[0m\u001b[0m\n\u001b[0m\u001b[1;32m     68\u001b[0m     \u001b[0;32mfinally\u001b[0m\u001b[0;34m:\u001b[0m\u001b[0;34m\u001b[0m\u001b[0;34m\u001b[0m\u001b[0m\n\u001b[1;32m     69\u001b[0m       \u001b[0;32mdel\u001b[0m \u001b[0mfiltered_tb\u001b[0m\u001b[0;34m\u001b[0m\u001b[0;34m\u001b[0m\u001b[0m\n",
      "\u001b[0;32m~/anaconda3/envs/tensorflow2_p38/lib/python3.8/site-packages/tensorflow/python/framework/ops.py\u001b[0m in \u001b[0;36mraise_from_not_ok_status\u001b[0;34m(e, name)\u001b[0m\n\u001b[1;32m   7105\u001b[0m \u001b[0;32mdef\u001b[0m \u001b[0mraise_from_not_ok_status\u001b[0m\u001b[0;34m(\u001b[0m\u001b[0me\u001b[0m\u001b[0;34m,\u001b[0m \u001b[0mname\u001b[0m\u001b[0;34m)\u001b[0m\u001b[0;34m:\u001b[0m\u001b[0;34m\u001b[0m\u001b[0;34m\u001b[0m\u001b[0m\n\u001b[1;32m   7106\u001b[0m   \u001b[0me\u001b[0m\u001b[0;34m.\u001b[0m\u001b[0mmessage\u001b[0m \u001b[0;34m+=\u001b[0m \u001b[0;34m(\u001b[0m\u001b[0;34m\" name: \"\u001b[0m \u001b[0;34m+\u001b[0m \u001b[0mname\u001b[0m \u001b[0;32mif\u001b[0m \u001b[0mname\u001b[0m \u001b[0;32mis\u001b[0m \u001b[0;32mnot\u001b[0m \u001b[0;32mNone\u001b[0m \u001b[0;32melse\u001b[0m \u001b[0;34m\"\"\u001b[0m\u001b[0;34m)\u001b[0m\u001b[0;34m\u001b[0m\u001b[0;34m\u001b[0m\u001b[0m\n\u001b[0;32m-> 7107\u001b[0;31m   \u001b[0;32mraise\u001b[0m \u001b[0mcore\u001b[0m\u001b[0;34m.\u001b[0m\u001b[0m_status_to_exception\u001b[0m\u001b[0;34m(\u001b[0m\u001b[0me\u001b[0m\u001b[0;34m)\u001b[0m \u001b[0;32mfrom\u001b[0m \u001b[0;32mNone\u001b[0m  \u001b[0;31m# pylint: disable=protected-access\u001b[0m\u001b[0;34m\u001b[0m\u001b[0;34m\u001b[0m\u001b[0m\n\u001b[0m\u001b[1;32m   7108\u001b[0m \u001b[0;34m\u001b[0m\u001b[0m\n\u001b[1;32m   7109\u001b[0m \u001b[0;34m\u001b[0m\u001b[0m\n",
      "\u001b[0;31mInvalidArgumentError\u001b[0m: cannot compute Mul as input #1(zero-based) was expected to be a float tensor but is a double tensor [Op:Mul]"
     ]
    }
   ],
   "source": [
    "model.fit(X_train, Y_train, epochs=8, batch_size=32)"
   ]
  }
 ],
 "metadata": {
  "instance_type": "ml.t3.medium",
  "kernelspec": {
   "display_name": "conda_tensorflow2_p38",
   "language": "python",
   "name": "conda_tensorflow2_p38"
  },
  "language_info": {
   "codemirror_mode": {
    "name": "ipython",
    "version": 3
   },
   "file_extension": ".py",
   "mimetype": "text/x-python",
   "name": "python",
   "nbconvert_exporter": "python",
   "pygments_lexer": "ipython3",
   "version": "3.8.12"
  }
 },
 "nbformat": 4,
 "nbformat_minor": 5
}
